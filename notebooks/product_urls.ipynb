{
  "nbformat": 4,
  "nbformat_minor": 0,
  "metadata": {
    "colab": {
      "provenance": []
    },
    "kernelspec": {
      "name": "python3",
      "display_name": "Python 3"
    },
    "language_info": {
      "name": "python"
    }
  },
  "cells": [
    {
      "cell_type": "code",
      "source": [
        "!pip install selenium\n",
        "!pip install beautifulsoup4\n",
        "!pip install requests"
      ],
      "metadata": {
        "id": "uaHYSeLG48Z0"
      },
      "execution_count": null,
      "outputs": []
    },
    {
      "cell_type": "code",
      "execution_count": null,
      "metadata": {
        "id": "cbSCRN5D1cLf"
      },
      "outputs": [],
      "source": [
        "import requests\n",
        "from bs4 import BeautifulSoup\n",
        "from selenium import webdriver\n",
        "from selenium.webdriver.common.by import By\n",
        "from selenium.webdriver.chrome.options import Options\n",
        "import time\n",
        "from concurrent.futures import ThreadPoolExecutor\n",
        "import csv"
      ]
    },
    {
      "cell_type": "code",
      "source": [
        "def extract_links(url):\n",
        "    chrome_options = Options()\n",
        "    chrome_options.add_argument(\"--headless\")  # Run Chrome in headless mode\n",
        "    chrome_options.add_argument(\"--disable-gpu\")  # Disable GPU hardware acceleration\n",
        "    chrome_options.add_argument(\"--no-sandbox\")\n",
        "\n",
        "    driver = webdriver.Chrome(options=chrome_options)\n",
        "    driver.get(url)\n",
        "\n",
        "    soup = BeautifulSoup(driver.page_source, 'html.parser')\n",
        "\n",
        "    links = [new.find('a')['href'] for new in soup.find_all('div', class_='v5-item')]\n",
        "    links = [\"https://hoanghamobile.com\" + link for link in links]\n",
        "\n",
        "    soup_next = soup\n",
        "    last_page = ''\n",
        "\n",
        "    for i in range(60):\n",
        "        next_page_div = soup_next.find(\"div\", class_=\"v5-more-product\")\n",
        "        if next_page_div:\n",
        "            next_page_link = next_page_div.find(\"a\", href=True)\n",
        "\n",
        "            next_page_url = \"https://hoanghamobile.com\" + next_page_link['href']\n",
        "\n",
        "            # Fetch the next page\n",
        "            response = requests.get(next_page_url)\n",
        "            soup_next = BeautifulSoup(response.text, 'html.parser')\n",
        "            # print(next_page_link)\n",
        "            # last_page = next_page_url\n",
        "\n",
        "        links_next = [new.find('a')['href'] for new in soup_next.find_all('div', class_='v5-item')]\n",
        "        links_next = [\"https://hoanghamobile.com\" + link for link in links_next]\n",
        "        links = links + links_next\n",
        "\n",
        "    return links"
      ],
      "metadata": {
        "id": "zo3e7Ntm2Bkh"
      },
      "execution_count": null,
      "outputs": []
    },
    {
      "cell_type": "code",
      "source": [
        "link_2 = extract_links('https://hoanghamobile.com/phu-kien')\n",
        "url_phukien = list(set(link_2))\n",
        "len(url_phukien)"
      ],
      "metadata": {
        "colab": {
          "base_uri": "https://localhost:8080/"
        },
        "id": "ETqxQqyYzyZE",
        "outputId": "18a335cf-8518-48ad-e52a-6ab0d9adde00"
      },
      "execution_count": null,
      "outputs": [
        {
          "output_type": "execute_result",
          "data": {
            "text/plain": [
              "1185"
            ]
          },
          "metadata": {},
          "execution_count": 52
        }
      ]
    },
    {
      "cell_type": "code",
      "source": [
        "link_tv = extract_links('https://hoanghamobile.com/smart-tv')\n",
        "url_tv = list(set(link_tv))\n",
        "len(url_tv)"
      ],
      "metadata": {
        "colab": {
          "base_uri": "https://localhost:8080/"
        },
        "id": "dDD1OHlT8_0z",
        "outputId": "4b978034-0b20-436c-a17f-b744e973397b"
      },
      "execution_count": null,
      "outputs": [
        {
          "output_type": "execute_result",
          "data": {
            "text/plain": [
              "169"
            ]
          },
          "metadata": {},
          "execution_count": 53
        }
      ]
    },
    {
      "cell_type": "code",
      "source": [
        "def extract_links_2(url):\n",
        "    chrome_options = Options()\n",
        "    chrome_options.add_argument(\"--headless\")  # Run Chrome in headless mode\n",
        "    chrome_options.add_argument(\"--disable-gpu\")  # Disable GPU hardware acceleration\n",
        "    chrome_options.add_argument(\"--no-sandbox\")\n",
        "\n",
        "    driver = webdriver.Chrome(options=chrome_options)\n",
        "    driver.get(url)\n",
        "\n",
        "    soup = BeautifulSoup(driver.page_source, 'html.parser')\n",
        "\n",
        "    product_grid = soup.find_all('div', class_='col-content lts-product')\n",
        "    link_temp = [new.find('a')['href'] for x in product_grid for new in x.find_all('div', class_='item')]\n",
        "    link_temp = [\"https://hoanghamobile.com\" + link for link in link_temp]\n",
        "\n",
        "    links = []\n",
        "    for l in link_temp:\n",
        "        driver.get(l)\n",
        "        new_soup = BeautifulSoup(driver.page_source, 'html.parser')\n",
        "        product_grid = new_soup.find('div', class_='col-content lts-product')\n",
        "        link = [new.find('a')['href'] for new in product_grid.find_all('div', class_='item')]\n",
        "        link = [\"https://hoanghamobile.com\" + n for n in link]\n",
        "        links = links + link\n",
        "\n",
        "    return links"
      ],
      "metadata": {
        "id": "PJJo0Hc2927D"
      },
      "execution_count": null,
      "outputs": []
    },
    {
      "cell_type": "code",
      "source": [
        "link_mua_cu = extract_links_2('https://hoanghamobile.com/kho-san-pham-cu')\n",
        "len(link_mua_cu)"
      ],
      "metadata": {
        "colab": {
          "base_uri": "https://localhost:8080/"
        },
        "id": "vUC3Z8RZ_STC",
        "outputId": "3ead0a13-5f4f-4b43-a599-e37b899056f7"
      },
      "execution_count": null,
      "outputs": [
        {
          "output_type": "execute_result",
          "data": {
            "text/plain": [
              "202"
            ]
          },
          "metadata": {},
          "execution_count": 98
        }
      ]
    },
    {
      "cell_type": "code",
      "source": [
        "links = ['https://hoanghamobile.com/dien-thoai-di-dong',\n",
        "         'https://hoanghamobile.com/tablet',\n",
        "         'https://hoanghamobile.com/man-hinh',\n",
        "         'https://hoanghamobile.com/dong-ho',\n",
        "         'https://hoanghamobile.com/loa-tai-nghe',\n",
        "         'https://hoanghamobile.com/smart-home',\n",
        "         'https://hoanghamobile.com/dien-may/dien-lanh/tu-lanh',\n",
        "         'https://hoanghamobile.com/dien-may/dien-lanh/dieu-hoa',\n",
        "         'https://hoanghamobile.com/dien-may/dien-lanh/may-giat',\n",
        "         'https://hoanghamobile.com/dien-may/do-gia-dung/noi-com-dien',\n",
        "         'https://hoanghamobile.com/dien-may/may-hut-bui',\n",
        "         'https://hoanghamobile.com/dien-may/noi-chien-khong-dau',\n",
        "         'https://hoanghamobile.com/dien-may/may-xay-sinh-to',\n",
        "         'https://hoanghamobile.com/dien-may/bep-dien']\n",
        "\n",
        "urls = []\n",
        "\n",
        "for l in links:\n",
        "    lst = extract_links(l)\n",
        "    lst_temp = list(set(lst))\n",
        "    print(len(lst_temp))\n",
        "    urls = urls + lst_temp"
      ],
      "metadata": {
        "id": "n3om0rAUFEOA",
        "colab": {
          "base_uri": "https://localhost:8080/"
        },
        "collapsed": true,
        "outputId": "fcca27de-5fb7-4c92-c448-e8b6b99ca7d7"
      },
      "execution_count": null,
      "outputs": [
        {
          "output_type": "stream",
          "name": "stdout",
          "text": [
            "245\n",
            "75\n",
            "152\n",
            "237\n",
            "344\n",
            "137\n",
            "207\n",
            "128\n",
            "154\n",
            "63\n",
            "5\n",
            "9\n",
            "11\n",
            "49\n"
          ]
        }
      ]
    },
    {
      "cell_type": "code",
      "source": [
        "urls = urls + url_phukien + url_tv + link_mua_cu\n",
        "len(urls)"
      ],
      "metadata": {
        "colab": {
          "base_uri": "https://localhost:8080/"
        },
        "id": "LQwZRnbBMvO1",
        "outputId": "2d8ce13f-0847-412f-bca6-e2a9c5b5cfa4"
      },
      "execution_count": null,
      "outputs": [
        {
          "output_type": "execute_result",
          "data": {
            "text/plain": [
              "3372"
            ]
          },
          "metadata": {},
          "execution_count": 100
        }
      ]
    }
  ]
}